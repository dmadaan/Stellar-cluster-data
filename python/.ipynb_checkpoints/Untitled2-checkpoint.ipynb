{
 "cells": [
  {
   "cell_type": "code",
   "execution_count": 62,
   "metadata": {
    "collapsed": true
   },
   "outputs": [],
   "source": [
    "##the first thing you want to do is import all the packages \n",
    "import numpy as np ##as np gives numpy a name! ##What does numpy do? \n",
    "\n",
    "##then you want to import packages for plotting \n",
    "\n",
    "import matplotlib.pyplot as plot \n",
    "#note here sayantan uses plt instead of plot! \n",
    "\n",
    "#you then want to import another package for scipy to work with the error function scipy.special includes the erfc funciton \n",
    "\n",
    "from scipy.special import erfc\n"
   ]
  },
  {
   "cell_type": "code",
   "execution_count": 63,
   "metadata": {
    "collapsed": false
   },
   "outputs": [
    {
     "name": "stdout",
     "output_type": "stream",
     "text": [
      "<_io.TextIOWrapper name='ONC.dat' mode='r' encoding='UTF-8'>\n"
     ]
    }
   ],
   "source": [
    "##Once all the packages are loaded into the system you want to start loading the text file you are working with!!\n",
    "## so you are going to use the command open to open the txt file! Now since this is already in a column vector you really don't need to strip or split\n",
    "##how would you open a text file if you have to? \n",
    "fp = open(\"ONC.dat\", 'r') \n",
    "##why do you specify this 'r' thing? \n",
    "##now what if you want to see fp? \n",
    "\n",
    "print(fp) #now basically this is  storage file so you really can't print the data inside! you need to assign an array or a list to do so!\n"
   ]
  },
  {
   "cell_type": "code",
   "execution_count": 64,
   "metadata": {
    "collapsed": false
   },
   "outputs": [],
   "source": [
    "## after opening the data file into the  fp thing you want to assign an array so you just assign an empty array. You donot need to specify the size. So how does python work? \n",
    "mass =[]\n",
    "\n",
    "## Python reads top to bottom left to right.\n",
    "for line in fp:\n",
    "    #print(line.strip().split())\n",
    "    #print(line.strip())\n",
    "## t is a list. You can check by type(variable)\n",
    "    t = line.strip().split()              \n",
    "    for value in t:\n",
    "        # the func append helps to modify the array storage\n",
    "        # python returns a string, but we need a floating point\n",
    "        mass.append(float(value))   \n",
    "\n",
    "## closing the file after it reads in the data *important \n",
    "fp.close()  \n",
    "\n",
    "##to convert mass python list to numpy array list for easy manipulation\n",
    "## so you want to change the mass list to an array! \n",
    "mass_array = (np.asarray(mass))    \n",
    "## mass_array is essentially our column vector that is storing values for the data points!\n",
    "## so np.asarray assigns array to mass ..so basically it is picking up from the module numpy! to treat arrays!\n",
    "\n",
    "\n",
    "## why don't you directly assign for line in fp to mass list. \n",
    "## so you'll get a closed fp error if you have already closed the file so you will have to run it from the top!\n"
   ]
  },
  {
   "cell_type": "code",
   "execution_count": 72,
   "metadata": {
    "collapsed": false
   },
   "outputs": [
    {
     "name": "stdout",
     "output_type": "stream",
     "text": [
      "[ 0.42   0.51   0.19  ...,  0.128  0.192  0.177]\n"
     ]
    }
   ],
   "source": [
    "print(mass_array)\n",
    "\n"
   ]
  },
  {
   "cell_type": "code",
   "execution_count": 79,
   "metadata": {
    "collapsed": false
   },
   "outputs": [
    {
     "data": {
      "image/png": "[encoded data removed]",
      "text/plain": [
       "<matplotlib.figure.Figure at 0x10f6e8710>"
      ]
     },
     "metadata": {},
     "output_type": "display_data"
    }
   ],
   "source": [
    "## so now you want to start working the array! that you have for mass and obtain the mass function!\n",
    "plot.figure(1)\n",
    "binsize = 50\n",
    "\n",
    "## now you want to plot the histogram!!\n",
    "plot.hist(np.log(mass_array),binsize,normed = 1, facecolor = 'red',cumulative= False)\n",
    "plot.xlim(min(np.log(mass_array))-0.5,max(np.log(mass))+0.5)\n",
    "##you want to plot your y axis in log as well \n",
    "plot.yscale('log')\n",
    "plot.title(\"ONC mass function\", fontsize = 12)\n",
    "plot.xlabel(\"ln(mass)\", fontsize = 12)\n",
    "plot.ylabel(\"frequency\",fontsize = 12)\n",
    "plot.show()\n"
   ]
  },
  {
   "cell_type": "code",
   "execution_count": 92,
   "metadata": {
    "collapsed": false
   },
   "outputs": [
    {
     "data": {
      "image/png": "[encoded data removed]",
      "text/plain": [
       "<matplotlib.figure.Figure at 0x10fd43ef0>"
      ]
     },
     "metadata": {},
     "output_type": "display_data"
    }
   ],
   "source": [
    "#now you want o extract information from the histogram!\n",
    "#the command below will give bincount and bin_edge!\n",
    "#from there we will find the bincenter by the formula\n",
    "# \n",
    "bincount,bin_edge = np.histogram(np.log(mass_array),binsize,normed =1) \n",
    "bincenter = (bin_edge[1:]+bin_edge[:-1])/2.0\n",
    "\n",
    "# so here what was binedge[1:] and binedge[:-1] doing? \n",
    "#then you just want to plot that as data points so just assign an array to the bincenter and bincount array\n",
    "\n",
    "xdata = bincenter[:]\n",
    "ydata = bincount[:]\n",
    "plot.figure(2)\n",
    "plot.plot(xdata,ydata,'ro', markersize = 3)\n",
    "plot.ylabel('ln(mf(m))')\n",
    "plot.xlabel('ln m')\n",
    "plot.yscale('log')\n",
    "plot.show()"
   ]
  },
  {
   "cell_type": "code",
   "execution_count": 86,
   "metadata": {
    "collapsed": false
   },
   "outputs": [
    {
     "name": "stdout",
     "output_type": "stream",
     "text": [
      "[-3.46683387 -3.31958272 -3.17233156 -3.02508041 -2.87782925 -2.7305781\n",
      " -2.58332694 -2.43607579 -2.28882463 -2.14157348 -1.99432232 -1.84707117\n",
      " -1.69982001 -1.55256886 -1.4053177  -1.25806655 -1.11081539 -0.96356424\n",
      " -0.81631308 -0.66906193 -0.52181077 -0.37455962 -0.22730846 -0.08005731\n",
      "  0.06719385  0.214445    0.36169616  0.50894731  0.65619847  0.80344962\n",
      "  0.95070078  1.09795193  1.24520309  1.39245424  1.5397054   1.68695655\n",
      "  1.83420771  1.98145886  2.12871002  2.27596117  2.42321233  2.57046348\n",
      "  2.71771464  2.86496579  3.01221695  3.1594681   3.30671926  3.45397041\n",
      "  3.60122157  3.74847272]\n"
     ]
    }
   ],
   "source": [
    "print(xdata)"
   ]
  },
  {
   "cell_type": "code",
   "execution_count": 87,
   "metadata": {
    "collapsed": false
   },
   "outputs": [
    {
     "name": "stdout",
     "output_type": "stream",
     "text": [
      "[ 0.00799582  0.0106611   0.01599164  0.0106611   0.02665274  0.03731384\n",
      "  0.05597075  0.07462767  0.13592898  0.34648562  0.77292947  0.84489187\n",
      "  0.66631851  0.69830179  0.67164905  0.53038953  0.31716761  0.27185795\n",
      "  0.18923446  0.1439248   0.10661096  0.13592898  0.10927623  0.06929712\n",
      "  0.06663185  0.07462767  0.08528877  0.05064021  0.0613013   0.0613013\n",
      "  0.05064021  0.02132219  0.01332637  0.01865692  0.00799582  0.00533055\n",
      "  0.00266527  0.00533055  0.          0.          0.00266527  0.          0.\n",
      "  0.00533055  0.00266527  0.          0.          0.00266527  0.\n",
      "  0.00266527]\n"
     ]
    }
   ],
   "source": [
    "print(ydata)"
   ]
  },
  {
   "cell_type": "code",
   "execution_count": null,
   "metadata": {
    "collapsed": true
   },
   "outputs": [],
   "source": [
    "#defining MLP function now. \n",
    "\n",
    "def MLP(x,alpha,m0,sigma0)\n",
    "p1 = (alpha/2.0)*np.exp(alpha+m0+((alpha)))"
   ]
  }
 ],
 "metadata": {
  "anaconda-cloud": {},
  "kernelspec": {
   "display_name": "Python [conda root]",
   "language": "python",
   "name": "conda-root-py"
  },
  "language_info": {
   "codemirror_mode": {
    "name": "ipython",
    "version": 3
   },
   "file_extension": ".py",
   "mimetype": "text/x-python",
   "name": "python",
   "nbconvert_exporter": "python",
   "pygments_lexer": "ipython3",
   "version": "3.5.2"
  }
 },
 "nbformat": 4,
 "nbformat_minor": 1
}
