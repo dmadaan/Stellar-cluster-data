{
 "cells": [
  {
   "cell_type": "code",
   "execution_count": 11,
   "metadata": {
    "collapsed": false
   },
   "outputs": [],
   "source": [
    "''' \n",
    "    This code is developed for the Python workshop at the Winter\n",
    "    School in Astronomy 2017\n",
    "    \n",
    "    @Author : Sayantan Auddy\n",
    "    Created : 7 Feb 2017\n",
    "    Modified : 13 Feb 2017\n",
    "    \n",
    "    Objective : To the study the probability denstiy \n",
    "    distribution of mass for ONC data.\n",
    "\n",
    "'''\n",
    "## Importing the numerical function numpy\n",
    "import numpy as np  \n",
    "\n",
    "## Importing the matplotlib for plotting\n",
    "import matplotlib.pyplot as plt \n",
    "\n",
    "## Scipy is scientific python \n",
    "from scipy.special import erfc\n",
    "\n",
    "## to get the plot in a separate GUI window (not needed for \n",
    "## other platform)\n",
    "# %matplotlib qt  \n",
    "\n",
    "## this command plot the matplotlib figures in line with the \n",
    "##code this works by default in jupyter \n",
    "%matplotlib inline  \n",
    "\n",
    "# That gives a interactive version within the notebook\n",
    "# %matplotlib notebook"
   ]
  },
  {
   "cell_type": "code",
   "execution_count": 12,
   "metadata": {
    "collapsed": false,
    "scrolled": true
   },
   "outputs": [
    {
     "data": {
      "image/png": "[encoded data removed]",
      "text/plain": [
       "<matplotlib.figure.Figure at 0x10ec764e0>"
      ]
     },
     "metadata": {},
     "output_type": "display_data"
    }
   ],
   "source": [
    "## read the data file in fp\n",
    "\n",
    "## fp = open (\"V4t_256_19.0.dat\",'r')\n",
    "fp = open (\"ONC.dat\",'r')\n",
    "\n",
    "## Declaring an empty list to store the data from the .dat file\n",
    "mass =[]\n",
    "\n",
    "## Reading the data from the .dat file line by line\n",
    "## please refer to the link for details  \n",
    "## http://stackoverflow.com/questions/4071396/split-by-comma\n",
    "## -and-strip-whitespace-in-python\n",
    "\n",
    "## Python reads top to bottom left to right.\n",
    "for line in fp:\n",
    "    #print(line.strip().split())\n",
    "    #print(line.strip())\n",
    "## t is a list. You can check by type(variable)\n",
    "    t = line.strip().split()              \n",
    "    for value in t:\n",
    "        # the func append helps to modify the array storage \n",
    "        mass.append(float(value))         \n",
    "\n",
    "## closing the file after it reads in the data *important \n",
    "fp.close()  \n",
    "\n",
    "##to convert rho python list to numpy array list for easy manipulation\n",
    "mass_array = (np.asarray(mass))           \n",
    "\n",
    "\n",
    "############################################################\n",
    "'''\n",
    "    Visualisng the nature of the data by ploting a histogram\n",
    "\n",
    "'''\n",
    "\n",
    "\n",
    "##declaring the bin size for the histogram\n",
    "binsize = 173                              \n",
    "plt.figure(1)\n",
    "\n",
    "## this gives the latex text for the plots\n",
    "# plt.rc('text',usetex=True)               \n",
    "\n",
    "## Binning in d ln(m). Binning can be modified depending \n",
    "## on the requirement of the problem\n",
    "plt.hist(np.log(mass_array),binsize,normed=1,facecolor='red'\n",
    "         ,cumulative=False) \n",
    "\n",
    "## Binning in dm. \n",
    "# plt.hist(mass_array,binsize,normed=1,facecolor='red'\n",
    "#          ,cumulative=False) \n",
    "\n",
    "## the limit of the x axis\n",
    "plt.xlim(min(np.log(mass_array))-0.5,max(np.log(mass_array))+0.5) \n",
    "## y axis limit\n",
    "# plt.ylim(-3,3)       \n",
    "## log scale on the y axis\n",
    "plt.yscale('log')                         \n",
    "plt.title (\"ONC mass density Histogram\",fontsize=11)\n",
    "plt.xlabel(\"Ln (mass)\", fontsize=12)\n",
    "plt.ylabel(\"Frequency\",fontsize=12)\n",
    "plt.show()"
   ]
  },
  {
   "cell_type": "code",
   "execution_count": 3,
   "metadata": {
    "collapsed": false,
    "scrolled": false
   },
   "outputs": [
    {
     "data": {
      "image/png": "[encoded data removed]",
      "text/plain": [
       "<matplotlib.figure.Figure at 0x10fc44780>"
      ]
     },
     "metadata": {},
     "output_type": "display_data"
    }
   ],
   "source": [
    "## To fit the histogram using the least square method\n",
    "## this gives the frequency and the edges of the bins\n",
    "\n",
    "## important to note we bin in dm\n",
    "# bincount,bin_edge = np.histogram(mass,binsize,normed=1) \n",
    "\n",
    "## important to note we bin in d ln(m)\n",
    "bincount,bin_edge = np.histogram(np.log(mass_array),binsize,normed=1) \n",
    "\n",
    "## bincenter is the value for the center of each bins\n",
    "bincenter = (bin_edge[1:]+bin_edge[:-1])/2.0\n",
    "xdata=bincenter[:]\n",
    "ydata=bincount[:]\n",
    "plt.figure(2)\n",
    "# plt.ylim(10**-1,10**3)\n",
    "plt.ylabel('ln (mf(m))')\n",
    "plt.xlabel('ln(m)')\n",
    "plt.plot(xdata,ydata,'ro',markersize=3)\n",
    "plt.yscale('log')"
   ]
  },
  {
   "cell_type": "markdown",
   "metadata": {
    "collapsed": false
   },
   "source": [
    "The objective is to fit a Fucntion to the above data set for analysing the slope of the power law tail. \n",
    "We shall try to fit MLP (Basu et al 2015)\n",
    "The MLP function is define as:\n",
    "\n",
    "f(m) = $\\frac{\\alpha}{2}\\exp{\\alpha \\mu_{0}+\\alpha^{2}\\sigma^{2}/2} m^{-(1+\\alpha)}\n",
    "       \\times erfc \\left({\\frac{1}{\\sqrt{2}}\\left(\\alpha\\sigma-\\frac{\\ln(m - \\mu_{0})}{\\sigma_{0}}\\right)}\\right)$"
   ]
  },
  {
   "cell_type": "code",
   "execution_count": 4,
   "metadata": {
    "collapsed": true
   },
   "outputs": [],
   "source": [
    "## Declaring the MLP maximum likelihood function. Please refer to the\n",
    "## following reference for details.\n",
    "\n",
    "\n",
    "def MLPMLEfit(params):\n",
    "    \"\"\"\n",
    "        General overview of the function\n",
    "        This is the maximum likelihhod of the MLP function. \n",
    "        Inputs: The data point are loaded as inputs\n",
    "        Output: On optimising this function it gives the best fit paramters\n",
    "                alpha, mu_{0} and sigma_{0}\n",
    "        Reference : Please read section () for details\n",
    "        Author: Sayantan\n",
    "    \"\"\"\n",
    "    alpha,mu0,sigma0=params\n",
    "    x = mass_array              # the data is loaded\n",
    "    p1=(alpha/2.0)*np.exp(alpha*mu0+((alpha*sigma0)**2)/2.0)\n",
    "    p2=x**(-(1+alpha))\n",
    "    arg=(1.0/np.sqrt(2.0))*(alpha*sigma0-(np.log(x)-mu0)/sigma0)\n",
    "    p3=erfc(arg)\n",
    "    p = p1*p2*p3;\n",
    "    return sum(-np.log(p))     # retuns the log likelihood. \n",
    "\n",
    "\n",
    "########################################################################\n",
    "\n",
    "## We deine the function MLP as mf(m). Notice the differene in the\n",
    "## power of mass in p2 \n",
    "##  x is the variable through which we are passing mass.\n",
    "\n",
    "\n",
    "\n",
    "def MLP(x,*params):\n",
    "    \"\"\" \n",
    "        General overview of the function\n",
    "        This is MLP function but mf(m) as defined earlier\n",
    "        Inputs: An array of x values and the parameter \n",
    "                alpha, mu_{0} and sigma_{0}\n",
    "        Output: Evaluate the m f(m) where f(m) is the MLP functio\n",
    "        Reference : Basu et al 2015. \n",
    "        Author: Sayantan\n",
    "    \"\"\"\n",
    "    alpha,mu0,sigma0=params\n",
    "    p1=(alpha/2.0)*np.exp(alpha*mu0+((alpha*sigma0)**2)/2.0)\n",
    "    p2=x**((-alpha))\n",
    "    arg=(1.0/np.sqrt(2.0))*(alpha*sigma0-(np.log(x)-mu0)/sigma0)\n",
    "    p3=erfc(arg)\n",
    "    p = p1*p2*p3;\n",
    "    return(p)    # returns m f(m)"
   ]
  },
  {
   "cell_type": "code",
   "execution_count": 5,
   "metadata": {
    "collapsed": false
   },
   "outputs": [
    {
     "name": "stdout",
     "output_type": "stream",
     "text": [
      "alpha=1.552174\n",
      "\n",
      "mu_0=-2.306813\n",
      "\n",
      "sigma_0=0.770617\n",
      "\n"
     ]
    }
   ],
   "source": [
    "''' \n",
    "    We will use least square method to fit MLP to the mass data of \n",
    "    the ONC cloud. Curve Fit is the funtion in python\n",
    "    which uses non-linear least squares to fit a function, f, to data.\n",
    "    A statistical method used to determine a line of best fit\n",
    "    by minimizing the sum of squares created by a mathematical function.\n",
    "    A \"square\" is determined by squaring the distance between a data point \n",
    "    and the regression line.\n",
    "\n",
    "'''\n",
    "\n",
    "def MLPcurefit(x,alpha,mu0,sigma0):\n",
    "    '''General overview of the function\n",
    "        This is MLP function f (m) which is used to fit the data using \n",
    "                least square method \n",
    "        Inputs: An array of x values and the parameter \n",
    "                alpha, mu_{0} and sigma_{0}\n",
    "        Output: Best fit fit parameters\n",
    "        Reference : Basu et al 2015. \n",
    "        Author: Sayantan\n",
    "    '''\n",
    "    p1=(alpha/2.0)*np.exp(alpha*mu0+((alpha*sigma0)**2)/2.0)\n",
    "    p2=x**(-(1+alpha))\n",
    "    arg=(1.0/np.sqrt(2.0))*(alpha*sigma0-(np.log(x)-mu0)/sigma0)\n",
    "    p3=erfc(arg)\n",
    "    p = p1*p2*p3;\n",
    "    return(p)\n",
    "\n",
    "## imoporting the curve_fit function from scipy module\n",
    "from scipy.optimize import curve_fit\n",
    "\n",
    "\n",
    "##important to note we bin in d(m)\n",
    "bincount_ls,bin_edge_ls = np.histogram(mass_array,binsize,normed=1) \n",
    "\n",
    "# bincenter is the value for the center of each bins\n",
    "bincenter_ls = (bin_edge_ls[1:]+bin_edge_ls[:-1])/2.0\n",
    "fitParams,fitCov=curve_fit(MLPcurefit,bincenter_ls,\n",
    "                           bincount_ls,bounds=([0.,-3.6,0,],[4., 3., 1.]))\n",
    "print('alpha=%f\\n'%(fitParams[0]))\n",
    "print('mu_0=%f\\n'% (fitParams[1]))\n",
    "print('sigma_0=%f\\n'%(fitParams[2]))"
   ]
  },
  {
   "cell_type": "code",
   "execution_count": 6,
   "metadata": {
    "collapsed": false,
    "scrolled": false
   },
   "outputs": [
    {
     "name": "stderr",
     "output_type": "stream",
     "text": [
      "/Users/Sayantan/anaconda/lib/python3.5/site-packages/ipykernel/__main__.py:22: RuntimeWarning: divide by zero encountered in log\n"
     ]
    },
    {
     "name": "stdout",
     "output_type": "stream",
     "text": [
      "global minimum: x = [1.403, -2.084,0.348], f(x0) = -789.658\n",
      "\n",
      "alpha  = 1.403\n",
      "\n",
      "mu0    =-2.084\n",
      "\n",
      "sigma_0= 0.348\n",
      "\n"
     ]
    },
    {
     "name": "stderr",
     "output_type": "stream",
     "text": [
      "/Users/Sayantan/anaconda/lib/python3.5/site-packages/scipy/optimize/optimize.py:628: RuntimeWarning: invalid value encountered in double_scalars\n",
      "  grad[k] = (f(*((xk + d,) + args)) - f0) / d[k]\n"
     ]
    }
   ],
   "source": [
    "'''\n",
    "    For optimization we shall use\n",
    "    scipy.optimize.differential_evolution\n",
    "\n",
    "    Finds the global minimum of a multivariate function. \n",
    "    Differential Evolution is stochastic in nature (does not use gradient\n",
    "    methods) to find the minimium, and can search large areas of candidate\n",
    "    space, but often requires larger numbers of function evaluations than \n",
    "    conventional gradient based techniques.\n",
    "    For detials: \n",
    "    https://docs.scipy.org/doc/scipy-0.18.1/reference/generated/\n",
    "    scipy.optimize.differential_evolution.html\n",
    "\n",
    "'''\n",
    "## We want to find the optimized value for the parameters alpha,\n",
    "## mu0 and sigma0 for the best\n",
    "## fit MLP fucntion.\n",
    "## importing the differential_evolution routine from scipy module\n",
    "from scipy.optimize import differential_evolution\n",
    "## defining the possible bounds for the values of alpha, mu0 and sigma0\n",
    "bounds = [(1, 5), (-3, 1),(0.01,2)]\n",
    "\n",
    "np.random.seed(1)   # fixed seed gives the same values on every run\n",
    "\n",
    "result = differential_evolution(MLPMLEfit, bounds)\n",
    "## result.x, result.fun\n",
    "print(\"global minimum: x = [%.3f, %.3f,%.3f], f(x0) = %.3f\\n\" % \n",
    "      (result.x[0], result.x[1],result.x[2],result.fun))\n",
    "print('alpha  = %.3f\\n'%(result.x[0]))\n",
    "print('mu0    =%.3f\\n'%(result.x[1]))\n",
    "print('sigma_0= %.3f\\n'%(result.x[2]))"
   ]
  },
  {
   "cell_type": "code",
   "execution_count": 7,
   "metadata": {
    "collapsed": false,
    "scrolled": false
   },
   "outputs": [
    {
     "name": "stderr",
     "output_type": "stream",
     "text": [
      "/Users/Sayantan/anaconda/lib/python3.5/site-packages/ipykernel/__main__.py:19: RuntimeWarning: divide by zero encountered in true_divide\n",
      "/Users/Sayantan/anaconda/lib/python3.5/site-packages/ipykernel/__main__.py:22: RuntimeWarning: divide by zero encountered in log\n",
      "/Users/Sayantan/anaconda/lib/python3.5/site-packages/scipy/optimize/optimize.py:628: RuntimeWarning: invalid value encountered in double_scalars\n",
      "  grad[k] = (f(*((xk + d,) + args)) - f0) / d[k]\n"
     ]
    },
    {
     "name": "stdout",
     "output_type": "stream",
     "text": [
      "global minimum: x = [1.421, -2.071,0.351], f(x0) = -790.021\n",
      "\n",
      "alpha  = 1.421\n",
      "\n",
      "mu0    =-2.071\n",
      "\n",
      "sigma_0= 0.351\n",
      "\n"
     ]
    }
   ],
   "source": [
    "'''\n",
    "For optimization we shall use\n",
    "scipy.optimize import basinhopping\n",
    "For detials: \n",
    "https://docs.scipy.org/doc/scipy-0.18.1/reference/generated/scipy.\n",
    "optimize.basinhopping.html\n",
    "\n",
    "'''\n",
    "from scipy.optimize import basinhopping\n",
    "\n",
    "## intial guess values of the parameter alpha, mu0, sigma0\n",
    "x0 = [3., 0.1,0.1]\n",
    "\n",
    "## defining the possible bounds for the values of alpha, mu0 and sigma0\n",
    "\n",
    "xmin = [1.,-3.,0.]          # lower bound\n",
    "xmax = [5.,1., 1.]          # upper bound\n",
    "\n",
    "## rewrite the bounds in the way required by L-BFGS-B\n",
    "bounds = [(low, high) for low, high in zip(xmin, xmax)]\n",
    "\n",
    "minimizer_kwargs = dict(method=\"L-BFGS-B\", bounds=bounds)\n",
    "\n",
    "ret = basinhopping(MLPMLEfit,x0,minimizer_kwargs=minimizer_kwargs,\n",
    "                   niter=200,disp=0,niter_success=None)\n",
    "\n",
    "print(\"global minimum: x = [%.3f, %.3f,%.3f], f(x0) = %.3f\\n\" % \n",
    "      (ret.x[0], ret.x[1],ret.x[2],ret.fun))\n",
    "print('alpha  = %.3f\\n'%(ret.x[0]))\n",
    "print('mu0    =%.3f\\n'%(ret.x[1]))\n",
    "print('sigma_0= %.3f\\n'%(ret.x[2]))"
   ]
  },
  {
   "cell_type": "code",
   "execution_count": 8,
   "metadata": {
    "collapsed": false,
    "scrolled": true
   },
   "outputs": [
    {
     "data": {
      "image/png": "[encoded data removed]",
      "text/plain": [
       "<matplotlib.figure.Figure at 0x10f61f518>"
      ]
     },
     "metadata": {},
     "output_type": "display_data"
    }
   ],
   "source": [
    "'''\n",
    "    Plotting the MLP with the best fit parameters along with\n",
    "    the ONC data points.\n",
    "\n",
    "''' \n",
    "\n",
    "# using the best fit parameters from the curve fit least square method\n",
    "params_ls = fitParams[0],fitParams[1],fitParams[2]\n",
    "# using the best fit parmameters from differential evolution optimisation\n",
    "params_dff = [ret.x[0],ret.x[1],ret.x[2]]\n",
    "# using the best fit parameters from the basinhopping optimisation\n",
    "params_bh = result.x[0],result.x[1],result.x[2]\n",
    "\n",
    "# defining an array of numbers to plot the MLP function\n",
    "xarray = np.logspace(-1.5,1.6,1000)\n",
    "# plt.hist(np.log(mass_array),binsize,normed=1,facecolor='blue'\n",
    "#          ,cumulative=False) \n",
    "plt.figure(3)\n",
    "plt.clf()\n",
    "plt.plot(xdata,ydata,'ro',markersize=3,label=\"ONC data\")\n",
    "plt.plot(np.log(xarray),MLP(xarray,*params_ls),'g-',label='LS')\n",
    "plt.plot(np.log(xarray),MLP(xarray,*params_dff),'k',label='DE')\n",
    "plt.plot(np.log(xarray),MLP(xarray,*params_bh),'b--',label='BH')        \n",
    "plt.legend(numpoints=1,fancybox=True,shadow=True,fontsize=10)\n",
    "plt.xticks(fontsize=12)\n",
    "plt.yticks(fontsize=12)\n",
    "plt.title (r'ONC mass density PDF',fontsize=14)\n",
    "plt.xlabel('ln(m)',fontsize=14)\n",
    "plt.ylabel('ln(m f(m)',fontsize=14)\n",
    "# plt.text(-2,0.001,r'$\\sin(x)$',fontsize=12)\n",
    "plt.yscale('log')\n",
    "plt.savefig('./testPlot.eps',format='eps')\n",
    "plt.show()"
   ]
  },
  {
   "cell_type": "code",
   "execution_count": null,
   "metadata": {
    "collapsed": true
   },
   "outputs": [],
   "source": []
  }
 ],
 "metadata": {
  "anaconda-cloud": {},
  "kernelspec": {
   "display_name": "Python [conda root]",
   "language": "python",
   "name": "conda-root-py"
  },
  "language_info": {
   "codemirror_mode": {
    "name": "ipython",
    "version": 3
   },
   "file_extension": ".py",
   "mimetype": "text/x-python",
   "name": "python",
   "nbconvert_exporter": "python",
   "pygments_lexer": "ipython3",
   "version": "3.5.2"
  }
 },
 "nbformat": 4,
 "nbformat_minor": 1
}
