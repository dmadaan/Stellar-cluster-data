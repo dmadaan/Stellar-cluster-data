{
 "cells": [
  {
   "cell_type": "code",
   "execution_count": 1,
   "metadata": {
    "collapsed": true
   },
   "outputs": [],
   "source": [
    "#loading file\n",
    "\n",
    "file_name = 'data.txt'"
   ]
  },
  {
   "cell_type": "code",
   "execution_count": 2,
   "metadata": {
    "collapsed": false
   },
   "outputs": [
    {
     "name": "stdout",
     "output_type": "stream",
     "text": [
      "Num,Name,Epoch,q,e,i,w,Node,Tp,Ref\n",
      "\n",
      "False\n",
      "True\n"
     ]
    }
   ],
   "source": [
    "with open(file_name, 'r') as f:\n",
    "    print(f.readline())\n",
    "    print(f.closed)\n",
    "\n",
    "print(f.closed)"
   ]
  },
  {
   "cell_type": "code",
   "execution_count": 3,
   "metadata": {
    "collapsed": false
   },
   "outputs": [
    {
     "name": "stdout",
     "output_type": "stream",
     "text": [
      "1P,Halley       ,49400,0.58597811,0.96714291,62.26269,111.33249, 58.42008,19860205.89532,JPL J863/77\n",
      "\n"
     ]
    }
   ],
   "source": [
    "####\n",
    "with open(file_name, 'r') as f:\n",
    "    \n",
    "    i = 0\n",
    "    for line in f:\n",
    "         \n",
    "            if i == 1:\n",
    "                print(line) # print(line[0]) will give you the first character!\n",
    "                break\n",
    "            i += 1\n",
    "            "
   ]
  },
  {
   "cell_type": "code",
   "execution_count": 4,
   "metadata": {
    "collapsed": false
   },
   "outputs": [
    {
     "name": "stdout",
     "output_type": "stream",
     "text": [
      "['one', 'two', 'three', 'four']\n"
     ]
    }
   ],
   "source": [
    " a = 'one,two,three,four'\n",
    "print(a.split(',')) # this is to make a list out of a string. This is for a file with a comma separated value"
   ]
  },
  {
   "cell_type": "code",
   "execution_count": 5,
   "metadata": {
    "collapsed": false
   },
   "outputs": [
    {
     "name": "stdout",
     "output_type": "stream",
     "text": [
      "center\n"
     ]
    }
   ],
   "source": [
    " b = \"      center      \"\n",
    "print(b.strip()) # stripping removes the spaces!"
   ]
  },
  {
   "cell_type": "code",
   "execution_count": 12,
   "metadata": {
    "collapsed": false
   },
   "outputs": [
    {
     "name": "stdout",
     "output_type": "stream",
     "text": [
      "['Num,Name,Epoch,q,e,i,w,Node,Tp,Ref\\n', '1P,Halley       ,49400,0.58597811,0.96714291,62.26269,111.33249, 58.42008,19860205.89532,JPL J863/77\\n', '2P,Encke        ,57720,0.33590577,0.84833349,11.77837,186.56104,334.56111,20170310.09194,JPL K173/2\\n', '3D,Biela        ,-9480,0.87907300,0.75129900,13.21640,221.65880,250.66900,18321126.61520,IAUCAT03\\n', '4P,Faye         ,57262,1.65187634,0.56961755, 9.07029,205.12582,199.14398,20140529.86872,JPL K144/7\\n', '5D,Brorsen      , 7440,0.58984700,0.80979600,29.38210, 14.94680,102.96760,18790331.03410,IAUCAT03\\n', \"6P,d'Arrest     ,57200,1.36145455,0.61142192,19.48168,178.11523,138.93371,20150302.41870,JPL K155/3\\n\", '7P,Pons-Winnecke,57380,1.23896144,0.63761701,22.33509,172.50006, 93.40960,20150130.53022,JPL K088/17\\n', '8P,Tuttle       ,54374,1.02711659,0.81979975,54.98318,207.50925,270.34165,20080127.02555,JPL K074/27\\n', '9P,Tempel 1     ,57375,1.54236947,0.50981920,10.47332,179.18727, 68.76828,20160802.55955,JPL 160\\n', '10P,Tempel 2     ,57262,1.41764523,0.53735240,12.02891,195.54767,117.80539,20151114.25866,JPL K1013/12']\n"
     ]
    }
   ],
   "source": [
    "with open(file_name, 'r') as f:\n",
    "    \n",
    "    file_data = []\n",
    "    for line in f: \n",
    "        \n",
    "        #line = line.replace('\\n', '') #this removes the command for another line or new line and replaces with space.\n",
    "        #line = line.split(',') #this gives you a list which is easy to work with\n",
    "        #print(line)\n",
    "        #print(line[1]) #this gives you only the first elements of the rows for the list. \n",
    "        \n",
    "        file_data.append(line)#append inserts multple elements to the list\n",
    "        \n",
    "print(file_data)"
   ]
  },
  {
   "cell_type": "code",
   "execution_count": null,
   "metadata": {
    "collapsed": true
   },
   "outputs": [],
   "source": []
  }
 ],
 "metadata": {
  "anaconda-cloud": {},
  "kernelspec": {
   "display_name": "Python [conda root]",
   "language": "python",
   "name": "conda-root-py"
  },
  "language_info": {
   "codemirror_mode": {
    "name": "ipython",
    "version": 3
   },
   "file_extension": ".py",
   "mimetype": "text/x-python",
   "name": "python",
   "nbconvert_exporter": "python",
   "pygments_lexer": "ipython3",
   "version": "3.5.2"
  }
 },
 "nbformat": 4,
 "nbformat_minor": 1
}
