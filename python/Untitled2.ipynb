{
 "cells": [
  {
   "cell_type": "code",
   "execution_count": 62,
   "metadata": {
    "collapsed": true
   },
   "outputs": [],
   "source": [
    "##the first thing you want to do is import all the packages \n",
    "import numpy as np ##as np gives numpy a name! ##What does numpy do? \n",
    "\n",
    "##then you want to import packages for plotting \n",
    "\n",
    "import matplotlib.pyplot as plot \n",
    "#note here sayantan uses plt instead of plot! \n",
    "\n",
    "#you then want to import another package for scipy to work with the error function scipy.special includes the erfc funciton \n",
    "\n",
    "from scipy.special import erfc\n"
   ]
  },
  {
   "cell_type": "code",
   "execution_count": 63,
   "metadata": {
    "collapsed": false
   },
   "outputs": [
    {
     "name": "stdout",
     "output_type": "stream",
     "text": [
      "<_io.TextIOWrapper name='ONC.dat' mode='r' encoding='UTF-8'>\n"
     ]
    }
   ],
   "source": [
    "##Once all the packages are loaded into the system you want to start loading the text file you are working with!!\n",
    "## so you are going to use the command open to open the txt file! Now since this is already in a column vector you really don't need to strip or split\n",
    "##how would you open a text file if you have to? \n",
    "fp = open(\"ONC.dat\", 'r') \n",
    "##why do you specify this 'r' thing? \n",
    "##now what if you want to see fp? \n",
    "\n",
    "print(fp) #now basically this is  storage file so you really can't print the data inside! you need to assign an array or a list to do so!\n"
   ]
  },
  {
   "cell_type": "code",
   "execution_count": 64,
   "metadata": {
    "collapsed": false
   },
   "outputs": [],
   "source": [
    "## after opening the data file into the  fp thing you want to assign an array so you just assign an empty array. You donot need to specify the size. So how does python work? \n",
    "mass =[]\n",
    "\n",
    "## Python reads top to bottom left to right.\n",
    "for line in fp:\n",
    "    #print(line.strip().split())\n",
    "    #print(line.strip())\n",
    "## t is a list. You can check by type(variable)\n",
    "    t = line.strip().split()              \n",
    "    for value in t:\n",
    "        # the func append helps to modify the array storage\n",
    "        # python returns a string, but we need a floating point\n",
    "        mass.append(float(value))   \n",
    "\n",
    "## closing the file after it reads in the data *important \n",
    "fp.close()  \n",
    "\n",
    "##to convert mass python list to numpy array list for easy manipulation\n",
    "## so you want to change the mass list to an array! \n",
    "mass_array = (np.asarray(mass))    \n",
    "## mass_array is essentially our column vector that is storing values for the data points!\n",
    "## so np.asarray assigns array to mass ..so basically it is picking up from the module numpy! to treat arrays!\n",
    "\n",
    "\n",
    "## why don't you directly assign for line in fp to mass list. \n",
    "## so you'll get a closed fp error if you have already closed the file so you will have to run it from the top!\n"
   ]
  },
  {
   "cell_type": "code",
   "execution_count": 72,
   "metadata": {
    "collapsed": false
   },
   "outputs": [
    {
     "name": "stdout",
     "output_type": "stream",
     "text": [
      "[ 0.42   0.51   0.19  ...,  0.128  0.192  0.177]\n"
     ]
    }
   ],
   "source": [
    "print(mass_array)\n",
    "\n"
   ]
  },
  {
   "cell_type": "code",
   "execution_count": 79,
   "metadata": {
    "collapsed": false
   },
   "outputs": [
    {
     "data": {
      "image/png": "[encoded data removed]",
      "text/plain": [
       "<matplotlib.figure.Figure at 0x10f6e8710>"
      ]
     },
     "metadata": {},
     "output_type": "display_data"
    }
   ],
   "source": [
    "## so now you want to start working the array! that you have for mass and obtain the mass function!\n",
    "plot.figure(1)\n",
    "binsize = 50\n",
    "\n",
    "## now you want to plot the histogram!!\n",
    "plot.hist(np.log(mass_array),binsize,normed = 1, facecolor = 'red',cumulative= False)\n",
    "plot.xlim(min(np.log(mass_array))-0.5,max(np.log(mass))+0.5)\n",
    "##you want to plot your y axis in log as well \n",
    "plot.yscale('log')\n",
    "plot.title(\"ONC mass function\", fontsize = 12)\n",
    "plot.xlabel(\"ln(mass)\", fontsize = 12)\n",
    "plot.ylabel(\"frequency\",fontsize = 12)\n",
    "plot.show()\n"
   ]
  },
  {
   "cell_type": "code",
   "execution_count": 109,
   "metadata": {
    "collapsed": false
   },
   "outputs": [
    {
     "data": {
      "image/png": "[encoded data removed]",
      "text/plain": [
       "<matplotlib.figure.Figure at 0x10fb654e0>"
      ]
     },
     "metadata": {},
     "output_type": "display_data"
    }
   ],
   "source": [
    "#now you want o extract information from the histogram!\n",
    "#the command below will give bincount and bin_edge!\n",
    "#from there we will find the bincenter by the formula\n",
    "# \n",
    "bincount,bin_edge = np.histogram(mass_array,binsize,normed =1) \n",
    "bincenter = (bin_edge[1:]+bin_edge[:-1])/2.0\n",
    "\n",
    "# so here what was binedge[1:] and binedge[:-1] doing? \n",
    "#then you just want to plot that as data points so just assign an array to the bincenter and bincount array\n",
    "\n",
    "xdata = bincenter[:]\n",
    "ydata = bincount[:]\n",
    "plot.figure(2)\n",
    "plot.plot(xdata,ydata,'ro', markersize = 3)\n",
    "plot.ylabel('ln(mf(m))')\n",
    "plot.xlabel('ln m')\n",
    "plot.yscale('log')\n",
    "plot.show()"
   ]
  },
  {
   "cell_type": "code",
   "execution_count": 110,
   "metadata": {
    "collapsed": false
   },
   "outputs": [
    {
     "name": "stdout",
     "output_type": "stream",
     "text": [
      "[  0.48571   1.39913   2.31255   3.22597   4.13939   5.05281   5.96623\n",
      "   6.87965   7.79307   8.70649   9.61991  10.53333  11.44675  12.36017\n",
      "  13.27359  14.18701  15.10043  16.01385  16.92727  17.84069  18.75411\n",
      "  19.66753  20.58095  21.49437  22.40779  23.32121  24.23463  25.14805\n",
      "  26.06147  26.97489  27.88831  28.80173  29.71515  30.62857  31.54199\n",
      "  32.45541  33.36883  34.28225  35.19567  36.10909  37.02251  37.93593\n",
      "  38.84935  39.76277  40.67619  41.58961  42.50303  43.41645  44.32987\n",
      "  45.24329]\n"
     ]
    }
   ],
   "source": [
    "print(xdata)"
   ]
  },
  {
   "cell_type": "code",
   "execution_count": 111,
   "metadata": {
    "collapsed": false
   },
   "outputs": [
    {
     "name": "stdout",
     "output_type": "stream",
     "text": [
      "[  1.00283830e+00   5.19894748e-02   2.53502398e-02   5.15598097e-03\n",
      "   3.86698573e-03   1.28899524e-03   8.59330162e-04   8.59330162e-04\n",
      "   0.00000000e+00   0.00000000e+00   0.00000000e+00   0.00000000e+00\n",
      "   0.00000000e+00   4.29665081e-04   0.00000000e+00   0.00000000e+00\n",
      "   0.00000000e+00   4.29665081e-04   4.29665081e-04   0.00000000e+00\n",
      "   4.29665081e-04   0.00000000e+00   0.00000000e+00   0.00000000e+00\n",
      "   0.00000000e+00   0.00000000e+00   0.00000000e+00   0.00000000e+00\n",
      "   0.00000000e+00   0.00000000e+00   0.00000000e+00   0.00000000e+00\n",
      "   0.00000000e+00   0.00000000e+00   4.29665081e-04   0.00000000e+00\n",
      "   0.00000000e+00   0.00000000e+00   0.00000000e+00   0.00000000e+00\n",
      "   0.00000000e+00   0.00000000e+00   0.00000000e+00   0.00000000e+00\n",
      "   0.00000000e+00   0.00000000e+00   0.00000000e+00   0.00000000e+00\n",
      "   0.00000000e+00   4.29665081e-04]\n"
     ]
    }
   ],
   "source": [
    "print(ydata)"
   ]
  },
  {
   "cell_type": "code",
   "execution_count": 119,
   "metadata": {
    "collapsed": false
   },
   "outputs": [
    {
     "name": "stdout",
     "output_type": "stream",
     "text": [
      "alpha=1.725628\n",
      "\n",
      "mu_0=-1.471475\n",
      "\n",
      "sigma_0=0.137365\n",
      "\n"
     ]
    }
   ],
   "source": [
    "#defining MLP function now. \n",
    "\n",
    "def MLP(x,alpha,mu0,sigma0):\n",
    "    p1 = (alpha/2.0)*np.exp(alpha*mu0+((alpha*sigma0)**2)/2.0)\n",
    "    p2 = x**(-(1+alpha))\n",
    "    arg = (1.0/np.sqrt(2.0))*(alpha*sigma0-(np.log(x)-mu0)/sigma0)\n",
    "    p3 = erfc(arg)\n",
    "    p = p1*p2*p3\n",
    "    return(p)\n",
    "\n",
    "#now uing the curvefit function to optimize\n",
    "\n",
    "from scipy.optimize import curve_fit\n",
    "np.random.seed(1) #maybe this might fix the convergence point\n",
    "fitParams,fitConv=curve_fit(MLP,xdata,ydata,bounds=([0.,-3,0,],[5., 5., 5.]))\n",
    "print('alpha=%f\\n'%(fitParams[0]))\n",
    "print('mu_0=%f\\n'% (fitParams[1]))\n",
    "print('sigma_0=%f\\n'%(fitParams[2]))"
   ]
  },
  {
   "cell_type": "code",
   "execution_count": 117,
   "metadata": {
    "collapsed": true
   },
   "outputs": [],
   "source": [
    "#now we would do differential optimization \n"
   ]
  },
  {
   "cell_type": "code",
   "execution_count": null,
   "metadata": {
    "collapsed": true
   },
   "outputs": [],
   "source": []
  }
 ],
 "metadata": {
  "anaconda-cloud": {},
  "kernelspec": {
   "display_name": "Python [conda root]",
   "language": "python",
   "name": "conda-root-py"
  },
  "language_info": {
   "codemirror_mode": {
    "name": "ipython",
    "version": 3
   },
   "file_extension": ".py",
   "mimetype": "text/x-python",
   "name": "python",
   "nbconvert_exporter": "python",
   "pygments_lexer": "ipython3",
   "version": "3.5.2"
  }
 },
 "nbformat": 4,
 "nbformat_minor": 1
}
